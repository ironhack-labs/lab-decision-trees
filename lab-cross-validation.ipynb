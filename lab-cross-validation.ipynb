{
 "cells": [
  {
   "cell_type": "markdown",
   "id": "9e8a9e89-2665-47ab-8710-03fc74fb0487",
   "metadata": {},
   "source": [
    "## Apply SMOTE for upsampling the data"
   ]
  },
  {
   "cell_type": "code",
   "execution_count": 6,
   "id": "f05afe09-a61b-45c6-95c5-570bdd641b49",
   "metadata": {},
   "outputs": [],
   "source": [
    "import pandas as pd\n",
    "import numpy as np\n",
    "from sklearn.model_selection import train_test_split\n",
    "from sklearn.linear_model import LogisticRegression\n",
    "from sklearn.tree import DecisionTreeClassifier\n",
    "from sklearn.metrics import accuracy_score\n",
    "from imblearn.over_sampling import SMOTE\n",
    "from sklearn.preprocessing import OneHotEncoder"
   ]
  },
  {
   "cell_type": "code",
   "execution_count": 3,
   "id": "7ccdf08f-988d-45c2-8c9d-d580384c0bde",
   "metadata": {
    "scrolled": true
   },
   "outputs": [
    {
     "data": {
      "text/html": [
       "<div>\n",
       "<style scoped>\n",
       "    .dataframe tbody tr th:only-of-type {\n",
       "        vertical-align: middle;\n",
       "    }\n",
       "\n",
       "    .dataframe tbody tr th {\n",
       "        vertical-align: top;\n",
       "    }\n",
       "\n",
       "    .dataframe thead th {\n",
       "        text-align: right;\n",
       "    }\n",
       "</style>\n",
       "<table border=\"1\" class=\"dataframe\">\n",
       "  <thead>\n",
       "    <tr style=\"text-align: right;\">\n",
       "      <th></th>\n",
       "      <th>gender</th>\n",
       "      <th>SeniorCitizen</th>\n",
       "      <th>Partner</th>\n",
       "      <th>Dependents</th>\n",
       "      <th>tenure</th>\n",
       "      <th>PhoneService</th>\n",
       "      <th>OnlineSecurity</th>\n",
       "      <th>OnlineBackup</th>\n",
       "      <th>DeviceProtection</th>\n",
       "      <th>TechSupport</th>\n",
       "      <th>StreamingTV</th>\n",
       "      <th>StreamingMovies</th>\n",
       "      <th>Contract</th>\n",
       "      <th>MonthlyCharges</th>\n",
       "      <th>TotalCharges</th>\n",
       "      <th>Churn</th>\n",
       "    </tr>\n",
       "  </thead>\n",
       "  <tbody>\n",
       "    <tr>\n",
       "      <th>0</th>\n",
       "      <td>Female</td>\n",
       "      <td>0</td>\n",
       "      <td>Yes</td>\n",
       "      <td>No</td>\n",
       "      <td>1</td>\n",
       "      <td>No</td>\n",
       "      <td>No</td>\n",
       "      <td>Yes</td>\n",
       "      <td>No</td>\n",
       "      <td>No</td>\n",
       "      <td>No</td>\n",
       "      <td>No</td>\n",
       "      <td>Month-to-month</td>\n",
       "      <td>29.85</td>\n",
       "      <td>29.85</td>\n",
       "      <td>No</td>\n",
       "    </tr>\n",
       "    <tr>\n",
       "      <th>1</th>\n",
       "      <td>Male</td>\n",
       "      <td>0</td>\n",
       "      <td>No</td>\n",
       "      <td>No</td>\n",
       "      <td>34</td>\n",
       "      <td>Yes</td>\n",
       "      <td>Yes</td>\n",
       "      <td>No</td>\n",
       "      <td>Yes</td>\n",
       "      <td>No</td>\n",
       "      <td>No</td>\n",
       "      <td>No</td>\n",
       "      <td>One year</td>\n",
       "      <td>56.95</td>\n",
       "      <td>1889.5</td>\n",
       "      <td>No</td>\n",
       "    </tr>\n",
       "    <tr>\n",
       "      <th>2</th>\n",
       "      <td>Male</td>\n",
       "      <td>0</td>\n",
       "      <td>No</td>\n",
       "      <td>No</td>\n",
       "      <td>2</td>\n",
       "      <td>Yes</td>\n",
       "      <td>Yes</td>\n",
       "      <td>Yes</td>\n",
       "      <td>No</td>\n",
       "      <td>No</td>\n",
       "      <td>No</td>\n",
       "      <td>No</td>\n",
       "      <td>Month-to-month</td>\n",
       "      <td>53.85</td>\n",
       "      <td>108.15</td>\n",
       "      <td>Yes</td>\n",
       "    </tr>\n",
       "    <tr>\n",
       "      <th>3</th>\n",
       "      <td>Male</td>\n",
       "      <td>0</td>\n",
       "      <td>No</td>\n",
       "      <td>No</td>\n",
       "      <td>45</td>\n",
       "      <td>No</td>\n",
       "      <td>Yes</td>\n",
       "      <td>No</td>\n",
       "      <td>Yes</td>\n",
       "      <td>Yes</td>\n",
       "      <td>No</td>\n",
       "      <td>No</td>\n",
       "      <td>One year</td>\n",
       "      <td>42.30</td>\n",
       "      <td>1840.75</td>\n",
       "      <td>No</td>\n",
       "    </tr>\n",
       "    <tr>\n",
       "      <th>4</th>\n",
       "      <td>Female</td>\n",
       "      <td>0</td>\n",
       "      <td>No</td>\n",
       "      <td>No</td>\n",
       "      <td>2</td>\n",
       "      <td>Yes</td>\n",
       "      <td>No</td>\n",
       "      <td>No</td>\n",
       "      <td>No</td>\n",
       "      <td>No</td>\n",
       "      <td>No</td>\n",
       "      <td>No</td>\n",
       "      <td>Month-to-month</td>\n",
       "      <td>70.70</td>\n",
       "      <td>151.65</td>\n",
       "      <td>Yes</td>\n",
       "    </tr>\n",
       "    <tr>\n",
       "      <th>...</th>\n",
       "      <td>...</td>\n",
       "      <td>...</td>\n",
       "      <td>...</td>\n",
       "      <td>...</td>\n",
       "      <td>...</td>\n",
       "      <td>...</td>\n",
       "      <td>...</td>\n",
       "      <td>...</td>\n",
       "      <td>...</td>\n",
       "      <td>...</td>\n",
       "      <td>...</td>\n",
       "      <td>...</td>\n",
       "      <td>...</td>\n",
       "      <td>...</td>\n",
       "      <td>...</td>\n",
       "      <td>...</td>\n",
       "    </tr>\n",
       "    <tr>\n",
       "      <th>7038</th>\n",
       "      <td>Male</td>\n",
       "      <td>0</td>\n",
       "      <td>Yes</td>\n",
       "      <td>Yes</td>\n",
       "      <td>24</td>\n",
       "      <td>Yes</td>\n",
       "      <td>Yes</td>\n",
       "      <td>No</td>\n",
       "      <td>Yes</td>\n",
       "      <td>Yes</td>\n",
       "      <td>Yes</td>\n",
       "      <td>Yes</td>\n",
       "      <td>One year</td>\n",
       "      <td>84.80</td>\n",
       "      <td>1990.5</td>\n",
       "      <td>No</td>\n",
       "    </tr>\n",
       "    <tr>\n",
       "      <th>7039</th>\n",
       "      <td>Female</td>\n",
       "      <td>0</td>\n",
       "      <td>Yes</td>\n",
       "      <td>Yes</td>\n",
       "      <td>72</td>\n",
       "      <td>Yes</td>\n",
       "      <td>No</td>\n",
       "      <td>Yes</td>\n",
       "      <td>Yes</td>\n",
       "      <td>No</td>\n",
       "      <td>Yes</td>\n",
       "      <td>Yes</td>\n",
       "      <td>One year</td>\n",
       "      <td>103.20</td>\n",
       "      <td>7362.9</td>\n",
       "      <td>No</td>\n",
       "    </tr>\n",
       "    <tr>\n",
       "      <th>7040</th>\n",
       "      <td>Female</td>\n",
       "      <td>0</td>\n",
       "      <td>Yes</td>\n",
       "      <td>Yes</td>\n",
       "      <td>11</td>\n",
       "      <td>No</td>\n",
       "      <td>Yes</td>\n",
       "      <td>No</td>\n",
       "      <td>No</td>\n",
       "      <td>No</td>\n",
       "      <td>No</td>\n",
       "      <td>No</td>\n",
       "      <td>Month-to-month</td>\n",
       "      <td>29.60</td>\n",
       "      <td>346.45</td>\n",
       "      <td>No</td>\n",
       "    </tr>\n",
       "    <tr>\n",
       "      <th>7041</th>\n",
       "      <td>Male</td>\n",
       "      <td>1</td>\n",
       "      <td>Yes</td>\n",
       "      <td>No</td>\n",
       "      <td>4</td>\n",
       "      <td>Yes</td>\n",
       "      <td>No</td>\n",
       "      <td>No</td>\n",
       "      <td>No</td>\n",
       "      <td>No</td>\n",
       "      <td>No</td>\n",
       "      <td>No</td>\n",
       "      <td>Month-to-month</td>\n",
       "      <td>74.40</td>\n",
       "      <td>306.6</td>\n",
       "      <td>Yes</td>\n",
       "    </tr>\n",
       "    <tr>\n",
       "      <th>7042</th>\n",
       "      <td>Male</td>\n",
       "      <td>0</td>\n",
       "      <td>No</td>\n",
       "      <td>No</td>\n",
       "      <td>66</td>\n",
       "      <td>Yes</td>\n",
       "      <td>Yes</td>\n",
       "      <td>No</td>\n",
       "      <td>Yes</td>\n",
       "      <td>Yes</td>\n",
       "      <td>Yes</td>\n",
       "      <td>Yes</td>\n",
       "      <td>Two year</td>\n",
       "      <td>105.65</td>\n",
       "      <td>6844.5</td>\n",
       "      <td>No</td>\n",
       "    </tr>\n",
       "  </tbody>\n",
       "</table>\n",
       "<p>7043 rows × 16 columns</p>\n",
       "</div>"
      ],
      "text/plain": [
       "      gender  SeniorCitizen Partner Dependents  tenure PhoneService  \\\n",
       "0     Female              0     Yes         No       1           No   \n",
       "1       Male              0      No         No      34          Yes   \n",
       "2       Male              0      No         No       2          Yes   \n",
       "3       Male              0      No         No      45           No   \n",
       "4     Female              0      No         No       2          Yes   \n",
       "...      ...            ...     ...        ...     ...          ...   \n",
       "7038    Male              0     Yes        Yes      24          Yes   \n",
       "7039  Female              0     Yes        Yes      72          Yes   \n",
       "7040  Female              0     Yes        Yes      11           No   \n",
       "7041    Male              1     Yes         No       4          Yes   \n",
       "7042    Male              0      No         No      66          Yes   \n",
       "\n",
       "     OnlineSecurity OnlineBackup DeviceProtection TechSupport StreamingTV  \\\n",
       "0                No          Yes               No          No          No   \n",
       "1               Yes           No              Yes          No          No   \n",
       "2               Yes          Yes               No          No          No   \n",
       "3               Yes           No              Yes         Yes          No   \n",
       "4                No           No               No          No          No   \n",
       "...             ...          ...              ...         ...         ...   \n",
       "7038            Yes           No              Yes         Yes         Yes   \n",
       "7039             No          Yes              Yes          No         Yes   \n",
       "7040            Yes           No               No          No          No   \n",
       "7041             No           No               No          No          No   \n",
       "7042            Yes           No              Yes         Yes         Yes   \n",
       "\n",
       "     StreamingMovies        Contract  MonthlyCharges TotalCharges Churn  \n",
       "0                 No  Month-to-month           29.85        29.85    No  \n",
       "1                 No        One year           56.95       1889.5    No  \n",
       "2                 No  Month-to-month           53.85       108.15   Yes  \n",
       "3                 No        One year           42.30      1840.75    No  \n",
       "4                 No  Month-to-month           70.70       151.65   Yes  \n",
       "...              ...             ...             ...          ...   ...  \n",
       "7038             Yes        One year           84.80       1990.5    No  \n",
       "7039             Yes        One year          103.20       7362.9    No  \n",
       "7040              No  Month-to-month           29.60       346.45    No  \n",
       "7041              No  Month-to-month           74.40        306.6   Yes  \n",
       "7042             Yes        Two year          105.65       6844.5    No  \n",
       "\n",
       "[7043 rows x 16 columns]"
      ]
     },
     "execution_count": 3,
     "metadata": {},
     "output_type": "execute_result"
    }
   ],
   "source": [
    "data = pd.read_csv(r\"C:\\Users\\HP\\Desktop\\Iron Hack\\Python\\Labs\\lab-cross-validation\\files_for_lab\\Customer-Churn.csv\")\n",
    "data"
   ]
  },
  {
   "cell_type": "code",
   "execution_count": 13,
   "id": "32082bc8-adee-420f-9b2a-bcd923881122",
   "metadata": {},
   "outputs": [
    {
     "data": {
      "text/plain": [
       "gender               object\n",
       "SeniorCitizen         int64\n",
       "Partner              object\n",
       "Dependents           object\n",
       "tenure                int64\n",
       "PhoneService         object\n",
       "OnlineSecurity       object\n",
       "OnlineBackup         object\n",
       "DeviceProtection     object\n",
       "TechSupport          object\n",
       "StreamingTV          object\n",
       "StreamingMovies      object\n",
       "Contract             object\n",
       "MonthlyCharges      float64\n",
       "TotalCharges         object\n",
       "Churn                object\n",
       "dtype: object"
      ]
     },
     "execution_count": 13,
     "metadata": {},
     "output_type": "execute_result"
    }
   ],
   "source": [
    "data.dtypes"
   ]
  },
  {
   "cell_type": "code",
   "execution_count": 18,
   "id": "e1dd8079-9dcb-4a5e-b4db-ea110ccb9ef9",
   "metadata": {},
   "outputs": [],
   "source": [
    "data['MonthlyChargesCategory'] = pd.cut(data['MonthlyCharges'], bins=2, labels=['Low', 'High'])\n",
    "\n",
    "data = data.drop(columns=['MonthlyCharges'])"
   ]
  },
  {
   "cell_type": "code",
   "execution_count": 19,
   "id": "b3d23046-9c53-4b73-a90b-76241b5753d4",
   "metadata": {},
   "outputs": [
    {
     "name": "stderr",
     "output_type": "stream",
     "text": [
      "C:\\Users\\HP\\anaconda3\\Lib\\site-packages\\sklearn\\preprocessing\\_encoders.py:868: FutureWarning: `sparse` was renamed to `sparse_output` in version 1.2 and will be removed in 1.4. `sparse_output` is ignored unless you leave `sparse` to its default value.\n",
      "  warnings.warn(\n"
     ]
    }
   ],
   "source": [
    "# One-hot encode categorical columns\n",
    "categorical_cols = data.select_dtypes(include=['object', 'category']).columns\n",
    "encoder = OneHotEncoder(sparse=False, drop='first')\n",
    "\n",
    "# Apply one-hot encoding to categorical columns\n",
    "encoded_categorical = pd.DataFrame(encoder.fit_transform(data[categorical_cols]), columns=encoder.get_feature_names_out(categorical_cols))\n",
    "\n",
    "# Select numerical columns\n",
    "numerical_cols = data.select_dtypes(include=[np.number])\n",
    "\n",
    "# Combine encoded categorical and numerical columns\n",
    "X = pd.concat([numerical_cols, encoded_categorical], axis=1)\n",
    "y = data['MonthlyChargesCategory']"
   ]
  },
  {
   "cell_type": "code",
   "execution_count": 20,
   "id": "10fb774a-f20b-4922-8e3f-2768e3d5eff6",
   "metadata": {},
   "outputs": [
    {
     "name": "stdout",
     "output_type": "stream",
     "text": [
      "Original dataset shape: MonthlyChargesCategory\n",
      "High    3029\n",
      "Low     2605\n",
      "Name: count, dtype: int64\n",
      "Resampled dataset shape: MonthlyChargesCategory\n",
      "Low     3029\n",
      "High    3029\n",
      "Name: count, dtype: int64\n"
     ]
    }
   ],
   "source": [
    "# Split data into training and testing sets\n",
    "X_train, X_test, y_train, y_test = train_test_split(X, y, test_size=0.2, random_state=42)\n",
    "\n",
    "# Apply SMOTE\n",
    "smote = SMOTE(random_state=42)\n",
    "X_train_smote, y_train_smote = smote.fit_resample(X_train, y_train)\n",
    "\n",
    "print(f'Original dataset shape: {y_train.value_counts()}')\n",
    "print(f'Resampled dataset shape: {y_train_smote.value_counts()}')"
   ]
  },
  {
   "cell_type": "code",
   "execution_count": 21,
   "id": "8dc49ca3-b92a-4173-93a7-a0a148f47a82",
   "metadata": {},
   "outputs": [
    {
     "name": "stdout",
     "output_type": "stream",
     "text": [
      "Logistic Regression Accuracy: 1.0\n"
     ]
    }
   ],
   "source": [
    "# Train the logistic regression model\n",
    "logreg = LogisticRegression(max_iter=10000)\n",
    "logreg.fit(X_train_smote, y_train_smote)\n",
    "\n",
    "# Predict on the test set\n",
    "y_pred_logreg = logreg.predict(X_test)\n",
    "\n",
    "# Compute accuracy\n",
    "accuracy_logreg = accuracy_score(y_test, y_pred_logreg)\n",
    "print(f'Logistic Regression Accuracy: {accuracy_logreg}')"
   ]
  },
  {
   "cell_type": "code",
   "execution_count": 22,
   "id": "437a72c2-9a70-4f9f-8846-28a585e3a00f",
   "metadata": {},
   "outputs": [
    {
     "name": "stdout",
     "output_type": "stream",
     "text": [
      "Decision Tree Accuracy: 1.0\n"
     ]
    }
   ],
   "source": [
    "# Train the decision tree model\n",
    "tree_model = DecisionTreeClassifier()\n",
    "tree_model.fit(X_train_smote, y_train_smote)\n",
    "\n",
    "# Predict on the test set\n",
    "y_pred_tree = tree_model.predict(X_test)\n",
    "\n",
    "# Compute accuracy\n",
    "accuracy_tree = accuracy_score(y_test, y_pred_tree)\n",
    "print(f'Decision Tree Accuracy: {accuracy_tree}')"
   ]
  },
  {
   "cell_type": "code",
   "execution_count": 23,
   "id": "ff84fecc-372b-4cbf-8fd9-315a009a204d",
   "metadata": {},
   "outputs": [
    {
     "name": "stdout",
     "output_type": "stream",
     "text": [
      "Comparison of Accuracies:\n",
      "Logistic Regression Accuracy: 1.0\n",
      "Decision Tree Accuracy: 1.0\n"
     ]
    }
   ],
   "source": [
    "print(f'Comparison of Accuracies:')\n",
    "print(f'Logistic Regression Accuracy: {accuracy_logreg}')\n",
    "print(f'Decision Tree Accuracy: {accuracy_tree}')"
   ]
  },
  {
   "cell_type": "markdown",
   "id": "bc47be1a-ac10-46c3-b247-0b8452eff98c",
   "metadata": {},
   "source": [
    "## Apply TomekLinks for downsampling"
   ]
  },
  {
   "cell_type": "code",
   "execution_count": 24,
   "id": "71afac11-5203-4d82-9316-8c1b303dd0b5",
   "metadata": {},
   "outputs": [],
   "source": [
    "import pandas as pd\n",
    "import numpy as np\n",
    "from sklearn.model_selection import train_test_split\n",
    "from sklearn.linear_model import LogisticRegression\n",
    "from sklearn.tree import DecisionTreeClassifier\n",
    "from sklearn.metrics import accuracy_score\n",
    "from imblearn.under_sampling import TomekLinks\n",
    "from sklearn.preprocessing import OneHotEncoder"
   ]
  },
  {
   "cell_type": "code",
   "execution_count": 26,
   "id": "9fac94bb-0d3e-45ab-a159-1dfbae6bce38",
   "metadata": {},
   "outputs": [
    {
     "name": "stdout",
     "output_type": "stream",
     "text": [
      "Original dataset shape: MonthlyChargesCategory\n",
      "High    3029\n",
      "Low     2605\n",
      "Name: count, dtype: int64\n",
      "Resampled dataset shape: MonthlyChargesCategory\n",
      "High    3003\n",
      "Low     2605\n",
      "Name: count, dtype: int64\n"
     ]
    }
   ],
   "source": [
    "# Apply TomekLinks\n",
    "tomek = TomekLinks()\n",
    "X_train_tomek, y_train_tomek = tomek.fit_resample(X_train, y_train)\n",
    "\n",
    "print(f'Original dataset shape: {y_train.value_counts()}')\n",
    "print(f'Resampled dataset shape: {y_train_tomek.value_counts()}')"
   ]
  },
  {
   "cell_type": "code",
   "execution_count": 27,
   "id": "0c9dbbce-c52f-430c-b54a-255029ce6260",
   "metadata": {},
   "outputs": [
    {
     "name": "stdout",
     "output_type": "stream",
     "text": [
      "Logistic Regression Accuracy: 1.0\n"
     ]
    }
   ],
   "source": [
    "# Train the logistic regression model\n",
    "logreg = LogisticRegression(max_iter=10000)\n",
    "logreg.fit(X_train_tomek, y_train_tomek)\n",
    "\n",
    "# Predict on the test set\n",
    "y_pred_logreg = logreg.predict(X_test)\n",
    "\n",
    "# Compute accuracy\n",
    "accuracy_logreg = accuracy_score(y_test, y_pred_logreg)\n",
    "print(f'Logistic Regression Accuracy: {accuracy_logreg}')"
   ]
  },
  {
   "cell_type": "code",
   "execution_count": 29,
   "id": "3874b651-f554-486a-8038-4c16adabcf46",
   "metadata": {},
   "outputs": [
    {
     "name": "stdout",
     "output_type": "stream",
     "text": [
      "Decision Tree Accuracy: 1.0\n"
     ]
    }
   ],
   "source": [
    "# Train the decision tree model\n",
    "tree_model = DecisionTreeClassifier()\n",
    "tree_model.fit(X_train_tomek, y_train_tomek)\n",
    "\n",
    "# Predict on the test set\n",
    "y_pred_tree = tree_model.predict(X_test)\n",
    "\n",
    "# Compute accuracy\n",
    "accuracy_tree = accuracy_score(y_test, y_pred_tree)\n",
    "print(f'Decision Tree Accuracy: {accuracy_tree}')"
   ]
  },
  {
   "cell_type": "code",
   "execution_count": 30,
   "id": "ea2b229b-85a7-4d06-9a09-bd6b100f18b8",
   "metadata": {},
   "outputs": [
    {
     "name": "stdout",
     "output_type": "stream",
     "text": [
      "Comparison of Accuracies:\n",
      "Logistic Regression Accuracy: 1.0\n",
      "Decision Tree Accuracy: 1.0\n"
     ]
    }
   ],
   "source": [
    "print(f'Comparison of Accuracies:')\n",
    "print(f'Logistic Regression Accuracy: {accuracy_logreg}')\n",
    "print(f'Decision Tree Accuracy: {accuracy_tree}')"
   ]
  },
  {
   "cell_type": "code",
   "execution_count": 31,
   "id": "b6de5417-3f31-4528-922b-c89fdca4b8aa",
   "metadata": {},
   "outputs": [
    {
     "name": "stdout",
     "output_type": "stream",
     "text": [
      "After first application: MonthlyChargesCategory\n",
      "High    3003\n",
      "Low     2605\n",
      "Name: count, dtype: int64\n",
      "After second application: MonthlyChargesCategory\n",
      "High    3003\n",
      "Low     2605\n",
      "Name: count, dtype: int64\n"
     ]
    }
   ],
   "source": [
    "# Reapply TomekLinks\n",
    "X_train_tomek2, y_train_tomek2 = tomek.fit_resample(X_train_tomek, y_train_tomek)\n",
    "\n",
    "print(f'After first application: {y_train_tomek.value_counts()}')\n",
    "print(f'After second application: {y_train_tomek2.value_counts()}')"
   ]
  },
  {
   "cell_type": "code",
   "execution_count": null,
   "id": "b242643b-e7e2-46fb-9dfe-4037be8e78c4",
   "metadata": {},
   "outputs": [],
   "source": []
  }
 ],
 "metadata": {
  "kernelspec": {
   "display_name": "Python 3 (ipykernel)",
   "language": "python",
   "name": "python3"
  },
  "language_info": {
   "codemirror_mode": {
    "name": "ipython",
    "version": 3
   },
   "file_extension": ".py",
   "mimetype": "text/x-python",
   "name": "python",
   "nbconvert_exporter": "python",
   "pygments_lexer": "ipython3",
   "version": "3.11.7"
  }
 },
 "nbformat": 4,
 "nbformat_minor": 5
}
